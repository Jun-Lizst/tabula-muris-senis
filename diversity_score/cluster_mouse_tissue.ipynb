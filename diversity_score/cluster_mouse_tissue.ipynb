{
 "cells": [
  {
   "cell_type": "code",
   "execution_count": null,
   "metadata": {},
   "outputs": [],
   "source": [
    "import pandas as pd\n",
    "import matplotlib.pyplot as plt\n",
    "import seaborn as sns\n",
    "sns.set(style=\"whitegrid\")\n",
    "import numpy as np\n",
    "import scanpy.api as sc\n",
    "from anndata import read_h5ad\n",
    "from anndata import AnnData\n",
    "import scipy as sp\n",
    "import scipy.stats\n",
    "from gprofiler import GProfiler\n",
    "from gprofiler_plotting import plot_enrich\n",
    "import pickle\n",
    "from sklearn.neighbors import KNeighborsClassifier\n",
    "from adjustText import adjust_text\n",
    "# Other specific functions \n",
    "from itertools import product\n",
    "from statsmodels.stats.multitest import multipletests\n",
    "import martin_helper as mh\n",
    "# R related packages \n",
    "import rpy2.rinterface_lib.callbacks\n",
    "import logging\n",
    "from rpy2.robjects import pandas2ri\n",
    "import anndata2ri"
   ]
  },
  {
   "cell_type": "code",
   "execution_count": null,
   "metadata": {},
   "outputs": [],
   "source": [
    "# Ignore R warning messages\n",
    "#Note: this can be commented out to get more verbose R output\n",
    "rpy2.rinterface_lib.callbacks.logger.setLevel(logging.ERROR)\n",
    "# Automatically convert rpy2 outputs to pandas dataframes\n",
    "pandas2ri.activate()\n",
    "anndata2ri.activate()\n",
    "%load_ext rpy2.ipython\n",
    "# autoreload\n",
    "%load_ext autoreload\n",
    "%autoreload 2\n",
    "# logging\n",
    "sc.logging.print_versions()"
   ]
  },
  {
   "cell_type": "markdown",
   "metadata": {},
   "source": [
    "## Load data"
   ]
  },
  {
   "cell_type": "code",
   "execution_count": null,
   "metadata": {},
   "outputs": [],
   "source": [
    "# maca_local = '/data/maca_local' \n",
    "maca_local = '/data3/martin/maca_local'\n",
    "output_folder = '/home/martin/maca/maca-data-analysis/results/cluster_tissue_celltype'"
   ]
  },
  {
   "cell_type": "code",
   "execution_count": null,
   "metadata": {},
   "outputs": [],
   "source": [
    "# Load the data \n",
    "adata_combine = mh.load_normalized_data(maca_local, log1p=True)"
   ]
  },
  {
   "cell_type": "code",
   "execution_count": null,
   "metadata": {},
   "outputs": [],
   "source": [
    "temp_facs = adata_combine[adata_combine.obs['b_method']=='facs',]\n",
    "temp_droplet = adata_combine[adata_combine.obs['b_method']=='droplet',]"
   ]
  },
  {
   "cell_type": "markdown",
   "metadata": {},
   "source": [
    "### Clustering all tissues using Angela's receipe"
   ]
  },
  {
   "cell_type": "code",
   "execution_count": null,
   "metadata": {},
   "outputs": [],
   "source": [
    "def cluster_angela(input_adata, resolution_val=.7):\n",
    "    adata = input_adata.copy()\n",
    "    sc.pp.highly_variable_genes(adata, subset = False, min_disp=.5,\n",
    "                                max_disp=None, min_mean=.0125, max_mean=10,\n",
    "                                n_bins=20, n_top_genes=None)\n",
    "    sc.pp.scale(adata, max_value=10, zero_center=False)\n",
    "    sc.pp.pca(adata, n_comps=50, use_highly_variable=True, svd_solver='arpack')\n",
    "    sc.pp.neighbors(adata, n_neighbors=15, n_pcs=20)\n",
    "    sc.tl.louvain(adata, resolution = resolution_val)\n",
    "    sc.tl.leiden(adata, resolution = resolution_val)\n",
    "    sc.tl.umap(adata)\n",
    "    return adata"
   ]
  },
  {
   "cell_type": "code",
   "execution_count": null,
   "metadata": {},
   "outputs": [],
   "source": [
    "# generate analysis list\n",
    "analysis_list_mt = ['facs.%s'%x for x in set(temp_facs.obs['tissue'])] + \\\n",
    "                        ['droplet.%s'%x for x in set(temp_droplet.obs['tissue'])] \n",
    "# A sorted age list\n",
    "age_list = [int(x[:-1])for x in set(adata_combine.obs['age'])]\n",
    "age_list.sort()\n",
    "age_list = ['%dm'%x for x in age_list]\n",
    "# Aggregate all mouse_id\n",
    "mouse_id_list = list(set(adata_combine.obs['mouse.id']))\n",
    "analysis_list = []\n",
    "for analyte_mt in analysis_list_mt:\n",
    "    method,tissue = analyte_mt.split('.')\n",
    "    for mouse_id in mouse_id_list:\n",
    "        ind_select = (adata_combine.obs['tissue'] == tissue) & \\\n",
    "                        (adata_combine.obs['b_method'] == method) &\\\n",
    "                        (adata_combine.obs['mouse.id'] == mouse_id)\n",
    "        if ind_select.sum()>100:\n",
    "            analyte = '%s.%s.%s'%(method,mouse_id,tissue)\n",
    "            analysis_list.append(analyte)\n",
    "            print(analyte, ind_select.sum())"
   ]
  },
  {
   "cell_type": "markdown",
   "metadata": {},
   "source": [
    "Here we repeated the procedures three times for `resolution_val=[0.3, 0.5, 0.7]`, as shown in the commented lines "
   ]
  },
  {
   "cell_type": "code",
   "execution_count": null,
   "metadata": {},
   "outputs": [],
   "source": [
    "dic_data = {}\n",
    "for analyte in analysis_list:\n",
    "    print(analyte)\n",
    "    method,mouse_id,tissue = analyte.split('.')\n",
    "    ind_select = (adata_combine.obs['tissue'] == tissue) & \\\n",
    "                    (adata_combine.obs['b_method'] == method) &\\\n",
    "                    (adata_combine.obs['mouse.id'] == mouse_id)\n",
    "    temp_adata = adata_combine[ind_select]\n",
    "    dic_data[analyte] = cluster_angela(temp_adata, resolution_val=0.7)\n",
    "#     dic_data[analyte] = cluster_angela(temp_adata, resolution_val=0.5)\n",
    "#     dic_data[analyte] = cluster_angela(temp_adata, resolution_val=0.3)\n",
    "    sc.pl.umap(dic_data[analyte], color=['cell_ontology_class', 'louvain', 'leiden'])"
   ]
  },
  {
   "cell_type": "code",
   "execution_count": null,
   "metadata": {},
   "outputs": [],
   "source": [
    "temp_folder = '/data3/martin/maca_local/result/cluster_tissue_celltype'\n",
    "with open(temp_folder+'/cluster_mouse_tissue_07.pickle', 'wb') as handle:\n",
    "# with open(temp_folder+'/cluster_mouse_tissue_05.pickle', 'wb') as handle:\n",
    "# with open(temp_folder+'/cluster_mouse_tissue_03.pickle', 'wb') as handle:\n",
    "    pickle.dump(dic_data, handle) "
   ]
  }
 ],
 "metadata": {
  "kernelspec": {
   "display_name": "Python 3",
   "language": "python",
   "name": "python3"
  },
  "language_info": {
   "codemirror_mode": {
    "name": "ipython",
    "version": 3
   },
   "file_extension": ".py",
   "mimetype": "text/x-python",
   "name": "python",
   "nbconvert_exporter": "python",
   "pygments_lexer": "ipython3",
   "version": "3.6.8"
  }
 },
 "nbformat": 4,
 "nbformat_minor": 2
}
