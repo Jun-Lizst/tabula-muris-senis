{
 "cells": [
  {
   "cell_type": "markdown",
   "metadata": {},
   "source": [
    "# Clonal network representation for tracer output"
   ]
  },
  {
   "cell_type": "markdown",
   "metadata": {},
   "source": [
    "## Import the needed packages"
   ]
  },
  {
   "cell_type": "code",
   "execution_count": null,
   "metadata": {},
   "outputs": [],
   "source": [
    "import pandas as pd\n",
    "from pyvis.network import Network\n",
    "import matplotlib.pyplot as plt\n",
    "import numpy as np\n"
   ]
  },
  {
   "cell_type": "markdown",
   "metadata": {},
   "source": [
    "## Get the color dictionary"
   ]
  },
  {
   "cell_type": "code",
   "execution_count": null,
   "metadata": {},
   "outputs": [],
   "source": [
    "def color_dict():\n",
    "    tissues = ['Bladder','Brain_Myeloid','Brain_Non-Myeloid','Fat','Heart_and_Aorta','Kidney','Large_Intestine','Limb_Muscle','Liver','Lung','Mammary_Gland','Marrow','Pancreas','Skin','Spleen','Thymus','Tongue','Trachea','BAT', 'GAT', 'MAT', 'SCAT']\n",
    "    \n",
    "    import matplotlib.colors as pltcolors\n",
    "    cmap = plt.cm.get_cmap(\"tab20b\")\n",
    "\n",
    "    color_dict = {}\n",
    "    i=0\n",
    "    for t in tissues:\n",
    "        color_dict[t] = pltcolors.to_hex(cmap(i))\n",
    "        i+=1/len(tissues)\n",
    "    return color_dict\n",
    "\n",
    "maca_color_dict = color_dict()"
   ]
  },
  {
   "cell_type": "markdown",
   "metadata": {},
   "source": [
    "## Parse the tracer output with metadata"
   ]
  },
  {
   "cell_type": "code",
   "execution_count": null,
   "metadata": {},
   "outputs": [],
   "source": [
    "tracer = pd.read_csv('../../0_data_ingest/T-cell-clonality/Supplementary_Table_6_T_cells.csv')\n",
    "tracer['validated_clone'] = 999\n",
    "tracer['validated_clone_length'] = 1.0\n",
    "\n",
    "clonegroup = list(set(tracer.clonal_group[~tracer['clonal_group'].isnull()]))\n",
    "for c in clonegroup:\n",
    "    cg = tracer.loc[tracer['clonal_group']==c]\n",
    "    mice = set(cg['mouse.id'])\n",
    "    if len(mice) == 1:\n",
    "        for i in cg.index:\n",
    "            tracer.loc[i,'validated_clone'] = 1\n",
    "            tracer.loc[i,'validated_clone_length'] = len(cg)\n",
    "    else:\n",
    "        miceidx = pd.DataFrame(cg['mouse.id'].value_counts())\n",
    "        im = 0\n",
    "        for idxmice in miceidx.index:\n",
    "            im = im+1\n",
    "            for i in cg.index:\n",
    "                if cg.loc[i,'mouse.id']==idxmice:\n",
    "                    tracer.loc[i,'clonal_group'] = str(c)+'_'+str(im)\n",
    "                    tracer.loc[i,'validated_clone'] = 2\n",
    "            \n",
    "validatedclones2 = pd.DataFrame(tracer.loc[tracer['validated_clone']==2].groupby(['clonal_group']).size())\n",
    "for vc2 in validatedclones2.index:\n",
    "    if validatedclones2.loc[vc2][0]>1:\n",
    "        cg = tracer.loc[tracer['clonal_group']==vc2]\n",
    "        for i in cg.index:\n",
    "            tracer.loc[i,'validated_clone'] = 1\n",
    "            tracer.loc[i,'validated_clone_length'] = validatedclones2.loc[vc2][0]\n",
    "            tracer.loc[i,'clonal_group'] = float(tracer.loc[i,'clonal_group'].split('_')[0])\n",
    "    else:\n",
    "        cg = tracer.loc[tracer['clonal_group']==vc2]\n",
    "        for i in cg.index:\n",
    "            tracer.loc[i,'validated_clone'] = 999\n",
    "            tracer.loc[i,'validated_clone_length'] = 1.0"
   ]
  },
  {
   "cell_type": "code",
   "execution_count": null,
   "metadata": {},
   "outputs": [],
   "source": [
    "tracer_validated = tracer[tracer['validated_clone']==1]\n",
    "tracer_validated = tracer_validated.replace('Heart','Heart_and_Aorta')"
   ]
  },
  {
   "cell_type": "markdown",
   "metadata": {},
   "source": [
    "## Generate the network for the clonal families"
   ]
  },
  {
   "cell_type": "code",
   "execution_count": null,
   "metadata": {
    "scrolled": false
   },
   "outputs": [],
   "source": [
    "G = Network(height=2000,width=1000,notebook=True)\n",
    "\n",
    "edgelist = []\n",
    "vertice = []\n",
    "for i in tracer_validated.index:\n",
    "        \n",
    "    edge = (str(tracer_validated.loc[i, 'age']), tracer_validated.loc[i, 'mouse.id'])\n",
    "    if edge not in edgelist:\n",
    "        vert1 = str(tracer_validated.loc[i, 'age'])\n",
    "        if vert1 not in vertice:\n",
    "            G.add_nodes([vert1],label = [tracer_validated.loc[i, 'age']], color = ['black'],#color = [\"#dd4b39\"],\n",
    "                       value = [10])\n",
    "            vertice.append(str(vert1))\n",
    "        vert2 = tracer_validated.loc[i, 'mouse.id']\n",
    "        if vert2 not in vertice:\n",
    "            G.add_nodes([vert2], color = [\"#555555\"],label = [tracer_validated.loc[i, 'mouse.id']])\n",
    "            vertice.append(vert2)\n",
    "        G.add_edge(edge[0],to=edge[1])\n",
    "        edgelist.append(edge)\n",
    "        \n",
    "    edge = (tracer_validated.loc[i, 'mouse.id'], tracer_validated.loc[i, 'clonal_group'])\n",
    "    if edge not in edgelist:\n",
    "        vert1 = tracer_validated.loc[i, 'mouse.id']\n",
    "        if vert1 not in vertice:\n",
    "            G.add_nodes([vert1],label = [tracer_validated.loc[i, 'mouse.id']], color = [\"#555555\"])#\n",
    "            vertice.append(str(vert1))\n",
    "        vert2 = tracer_validated.loc[i, 'clonal_group']\n",
    "        if vert2 not in vertice:\n",
    "            G.add_nodes([vert2], color = [\"#737373\"],label = [' '],\n",
    "                       value = [tracer_validated.loc[i, 'validated_clone_length']])\n",
    "            vertice.append(vert2)\n",
    "        G.add_edge(edge[0],to=edge[1])\n",
    "        edgelist.append(edge)\n",
    "        \n",
    "    edge = (tracer_validated.loc[i, 'cell'], tracer_validated.loc[i, 'clonal_group'])\n",
    "    if edge not in edgelist:\n",
    "        vert1 = tracer_validated.loc[i, 'cell']\n",
    "        if vert1 not in vertice:\n",
    "            G.add_nodes([vert1],label = [' '], color = [maca_color_dict[tracer_validated.loc[i, 'tissue']]])\n",
    "            vertice.append(str(vert1))\n",
    "        vert2 = tracer_validated.loc[i, 'clonal_group']\n",
    "        if vert2 not in vertice:\n",
    "            G.add_nodes([vert2], color = [\"#737373\"],label = [tracer_validated.loc[i, 'clonal_group']],\n",
    "                       value = [tracer_validated.loc[i, 'validated_clone_length']])\n",
    "            vertice.append(vert2)\n",
    "        G.add_edge(edge[0],to=edge[1])\n",
    "        edgelist.append(edge)\n",
    "        \n",
    "G.show('tracer_validated.html')\n",
    "\n"
   ]
  },
  {
   "cell_type": "markdown",
   "metadata": {},
   "source": [
    "## Generate the network for the whole output"
   ]
  },
  {
   "cell_type": "markdown",
   "metadata": {},
   "source": [
    "These might take a really long time..."
   ]
  },
  {
   "cell_type": "code",
   "execution_count": null,
   "metadata": {},
   "outputs": [],
   "source": [
    "G = Network(height=2000,width=1000,notebook=True)\n",
    "\n",
    "edgelist = []\n",
    "vertice = []\n",
    "vidx = int(np.nanmax(tracer['clonal_group'].values.astype(float)))+1.\n",
    "for i in tracer.index:\n",
    "        \n",
    "    edge = (str(tracer.loc[i, 'age']), tracer.loc[i, 'mouse.id'])\n",
    "    if edge not in edgelist:\n",
    "        vert1 = str(tracer.loc[i, 'age'])\n",
    "        if vert1 not in vertice:\n",
    "            G.add_nodes([vert1],label = [tracer.loc[i, 'age']], color = [\"#dd4b39\"],\n",
    "                       value = [10])\n",
    "            vertice.append(str(vert1))\n",
    "        vert2 = tracer.loc[i, 'mouse.id']\n",
    "        if vert2 not in vertice:\n",
    "            G.add_nodes([vert2], color = [\"#00ff1e\"],label = [tracer.loc[i, 'mouse.id']])\n",
    "            vertice.append(vert2)\n",
    "        G.add_edge(edge[0],to=edge[1])\n",
    "        edgelist.append(edge)\n",
    "        \n",
    "    edge = (tracer.loc[i, 'mouse.id'], tracer.loc[i, 'clonal_group'])\n",
    "    if edge not in edgelist:\n",
    "        vert1 = tracer.loc[i, 'mouse.id']\n",
    "        if vert1 not in vertice:\n",
    "            G.add_nodes([vert1],label = [tracer.loc[i, 'mouse.id']], color = [\"#00ff1e\"])\n",
    "            vertice.append(str(vert1))\n",
    "        vert2 = tracer.loc[i, 'clonal_group']\n",
    "        if vert2 not in vertice:\n",
    "            if math.isnan(float(vert2)):\n",
    "                vert2 = vidx\n",
    "                val = 1.0\n",
    "                vidx = vidx+1\n",
    "            else:\n",
    "                val = tracer.loc[i, 'validated_clone_length']\n",
    "            G.add_nodes([vert2], color = [\"#FFD700\"],label = [' '],\n",
    "                       value = [val])\n",
    "            vertice.append(vert2)\n",
    "        G.add_edge(edge[0],to=vert2)\n",
    "        edgelist.append(edge)\n",
    "        \n",
    "    edge = (tracer.loc[i, 'cell'], tracer.loc[i, 'clonal_group'])\n",
    "    if edge not in edgelist:\n",
    "        vert1 = tracer.loc[i, 'cell']\n",
    "        if vert1 not in vertice:\n",
    "            G.add_nodes([vert1],label = [' '], color = [\"#162347\"])\n",
    "            vertice.append(str(vert1))\n",
    "        vert2 = tracer.loc[i, 'clonal_group']\n",
    "        if vert2 not in vertice:\n",
    "            if math.isnan(float(vert2)):\n",
    "                vert2 = vidx\n",
    "                val = 1.0\n",
    "                vidx = vidx+1\n",
    "            else:\n",
    "                val = tracer.loc[i, 'validated_clone_length']\n",
    "            G.add_nodes([vert2], color = [\"#FFD700\"],label = [tracer.loc[i, 'clonal_group']],\n",
    "                       value = [val])\n",
    "            vertice.append(vert2)\n",
    "        G.add_edge(edge[0],to=vert2)\n",
    "        edgelist.append(edge)\n",
    "        \n",
    "G.save_graph('tracer.html')\n",
    "\n"
   ]
  },
  {
   "cell_type": "code",
   "execution_count": null,
   "metadata": {},
   "outputs": [],
   "source": []
  },
  {
   "cell_type": "code",
   "execution_count": null,
   "metadata": {},
   "outputs": [],
   "source": []
  }
 ],
 "metadata": {
  "kernelspec": {
   "display_name": "Python 3",
   "language": "python",
   "name": "python3"
  },
  "language_info": {
   "codemirror_mode": {
    "name": "ipython",
    "version": 3
   },
   "file_extension": ".py",
   "mimetype": "text/x-python",
   "name": "python",
   "nbconvert_exporter": "python",
   "pygments_lexer": "ipython3",
   "version": "3.6.7"
  }
 },
 "nbformat": 4,
 "nbformat_minor": 2
}
