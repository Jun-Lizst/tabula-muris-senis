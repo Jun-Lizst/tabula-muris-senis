{
 "cells": [
  {
   "cell_type": "markdown",
   "metadata": {},
   "source": [
    "# Import setup"
   ]
  },
  {
   "cell_type": "code",
   "execution_count": null,
   "metadata": {},
   "outputs": [],
   "source": [
    "import numpy as np\n",
    "import pandas as pd\n",
    "import seaborn as sns\n",
    "import matplotlib.pyplot as plt\n",
    "import csv\n",
    "\n",
    "import scanpy as sc\n",
    "import scanpy.external as sce\n",
    "\n",
    "from igraph import *\n",
    "import ipywidgets\n",
    "from MulticoreTSNE import MulticoreTSNE as TSNE #faster TSNE alternative\n",
    "import anndata\n",
    "from anndata import read_h5ad\n",
    "import arrow\n",
    "import bbknn\n",
    "import leidenalg\n",
    "\n",
    "sc.settings.verbosity = 3\n",
    "sc.logging.print_versions()\n",
    "np.random.seed(685)\n",
    "\n",
    "plt.rcParams['pdf.fonttype'] = 42\n",
    "plt.rcParams['ps.fonttype'] = 42\n",
    "\n",
    "plt.rcParams['figure.figsize']=(8,8) #rescale figures\n",
    "sc.settings.set_figure_params(dpi=50)"
   ]
  },
  {
   "cell_type": "markdown",
   "metadata": {},
   "source": [
    "# Color dictionary"
   ]
  },
  {
   "cell_type": "code",
   "execution_count": null,
   "metadata": {},
   "outputs": [],
   "source": [
    "def color_dict():\n",
    "    tissues = ['Bladder','Brain_Myeloid','Brain_Non-Myeloid','Fat','Heart','Kidney','Large_Intestine','Limb_Muscle','Liver','Lung','Mammary_Gland','Marrow','Pancreas','Skin','Spleen','Thymus','Tongue','Trachea','Aorta','Diaphgram','BAT', 'GAT', 'MAT', 'SCAT']\n",
    "    tissues.sort()\n",
    "    \n",
    "    import matplotlib.colors as pltcolors\n",
    "    \n",
    "    cmap = [plt.cm.get_cmap(\"tab20b\")(0)] # Aorta\n",
    "    for i in range(3,5): # BAT, Bladder\n",
    "        cmap.append(plt.cm.get_cmap(\"tab20b\")(i))\n",
    "    for i in range(6,9): # Brain_Myeloid, Brain_Non_Myeloid, Diaphgram\n",
    "        cmap.append(plt.cm.get_cmap(\"tab20b\")(i))\n",
    "    for i in range(17,18): # Fat\n",
    "        cmap.append(plt.cm.get_cmap(\"tab20c\")(i))\n",
    "    for i in range(9,13): # GAT, Heart, Kidney, Large_Intestine\n",
    "        cmap.append(plt.cm.get_cmap(\"tab20b\")(i))\n",
    "    for i in range(14,20): # Limb_Muscle, Liver, Lung, MAT, Mammary_Gland, Marrow\n",
    "        cmap.append(plt.cm.get_cmap(\"tab20b\")(i))\n",
    "    for i in range(0,2): # Pancreas, SCAT\n",
    "        cmap.append(plt.cm.get_cmap(\"tab20c\")(i))\n",
    "    for i in range(4,6): # Skin, Spleen\n",
    "        cmap.append(plt.cm.get_cmap(\"tab20c\")(i))\n",
    "    for i in range(8,9): # Thymus\n",
    "        cmap.append(plt.cm.get_cmap(\"tab20c\")(i))\n",
    "    for i in range(10,11): # Tongue\n",
    "        cmap.append(plt.cm.get_cmap(\"tab20c\")(i))\n",
    "    for i in range(16,17): # Trachea \n",
    "        cmap.append(plt.cm.get_cmap(\"tab20c\")(i))\n",
    "    \n",
    "    color_dict = {}\n",
    "    j=0\n",
    "    for t in tissues:\n",
    "        color_dict[t] = pltcolors.to_hex(cmap[j])\n",
    "        j+=1\n",
    "    \n",
    "    return color_dict\n",
    "\n",
    "maca_color_dict = color_dict()\n",
    "\n"
   ]
  },
  {
   "cell_type": "code",
   "execution_count": null,
   "metadata": {},
   "outputs": [],
   "source": [
    "def plot_colortable(colors, title, sort_colors=True, emptycols=0):\n",
    "\n",
    "    cell_width = 212\n",
    "    cell_height = 22\n",
    "    swatch_width = 48\n",
    "    margin = 12\n",
    "    topmargin = 40\n",
    "\n",
    "    # Sort colors by hue, saturation, value and name.\n",
    "    by_hsv = [(v, k) for k, v in colors.items()]\n",
    "    \n",
    "    if sort_colors is True:\n",
    "        by_hsv = sorted(by_hsv)\n",
    "    names = [name for hsv, name in by_hsv]\n",
    "\n",
    "    n = len(names)\n",
    "    ncols = 4 - emptycols\n",
    "    nrows = n // ncols + int(n % ncols > 0)\n",
    "\n",
    "    width = cell_width * 4 + 2 * margin\n",
    "    height = cell_height * nrows + margin + topmargin\n",
    "    dpi = 72\n",
    "\n",
    "    fig, ax = plt.subplots(figsize=(width / dpi, height / dpi), dpi=dpi)\n",
    "    fig.subplots_adjust(margin/width, margin/height,\n",
    "                        (width-margin)/width, (height-topmargin)/height)\n",
    "    ax.set_xlim(0, cell_width * 4)\n",
    "    ax.set_ylim(cell_height * (nrows-0.5), -cell_height/2.)\n",
    "    ax.yaxis.set_visible(False)\n",
    "    ax.xaxis.set_visible(False)\n",
    "    ax.set_axis_off()\n",
    "    ax.set_title(title, fontsize=24, loc=\"left\", pad=10)\n",
    "\n",
    "    for i, name in enumerate(names):\n",
    "        row = i % nrows\n",
    "        col = i // nrows\n",
    "        y = row * cell_height\n",
    "\n",
    "        swatch_start_x = cell_width * col\n",
    "        swatch_end_x = cell_width * col + swatch_width\n",
    "        text_pos_x = cell_width * col + swatch_width + 7\n",
    "\n",
    "        ax.text(text_pos_x, y, name, fontsize=14,\n",
    "                horizontalalignment='left',\n",
    "                verticalalignment='center')\n",
    "\n",
    "        ax.hlines(y, swatch_start_x, swatch_end_x,\n",
    "                  color=colors[name], linewidth=18)\n",
    "\n",
    "    return fig\n",
    "\n",
    "plot_colortable(maca_color_dict, \"Tabula Muris Senis Color Dictionary\", sort_colors=False, emptycols=1)"
   ]
  },
  {
   "cell_type": "code",
   "execution_count": null,
   "metadata": {},
   "outputs": [],
   "source": [
    "def age_color_dict():\n",
    "    ages = ['1m','3m','18m','21m','24m','30m']\n",
    "    \n",
    "    import matplotlib.colors as pltcolors\n",
    "    \n",
    "    cmap = plt.cm.get_cmap(\"YlGnBu\")\n",
    "        \n",
    "    age_color_dict = {}\n",
    "    j=1/len(ages)\n",
    "    for a in ages:\n",
    "        age_color_dict[a] = pltcolors.to_hex(cmap(j))\n",
    "        j+=1/len(ages)\n",
    "    \n",
    "    return age_color_dict\n",
    "\n",
    "age_color_dict = age_color_dict()\n",
    "\n",
    "plot_colortable(age_color_dict, \"Tabula Muris Senis Age Color Dictionary\", sort_colors=False, emptycols=1)\n",
    "plt.savefig('./figures/maca_age_color_dict.pdf')"
   ]
  },
  {
   "cell_type": "code",
   "execution_count": null,
   "metadata": {},
   "outputs": [],
   "source": []
  },
  {
   "cell_type": "code",
   "execution_count": null,
   "metadata": {},
   "outputs": [],
   "source": []
  },
  {
   "cell_type": "code",
   "execution_count": null,
   "metadata": {},
   "outputs": [],
   "source": []
  },
  {
   "cell_type": "code",
   "execution_count": null,
   "metadata": {},
   "outputs": [],
   "source": []
  },
  {
   "cell_type": "markdown",
   "metadata": {},
   "source": [
    "# Clonal analysis"
   ]
  },
  {
   "cell_type": "code",
   "execution_count": null,
   "metadata": {},
   "outputs": [],
   "source": [
    "from collections import Counter\n",
    "import re\n",
    "from fuzzywuzzy import fuzz\n",
    "from fuzzywuzzy import process\n",
    "import networkx as nx\n",
    "from pyvis.network import Network\n",
    "from Bio.Seq import translate"
   ]
  },
  {
   "cell_type": "markdown",
   "metadata": {},
   "source": [
    "## Prepare the data"
   ]
  },
  {
   "cell_type": "markdown",
   "metadata": {},
   "source": [
    "### new way"
   ]
  },
  {
   "cell_type": "code",
   "execution_count": null,
   "metadata": {
    "scrolled": true
   },
   "outputs": [],
   "source": [
    "adata = read_h5ad('/data/maca/maca-data-release-v4/tabula-muris-senis-facs-official-annotations.h5ad')\n",
    "adata"
   ]
  },
  {
   "cell_type": "code",
   "execution_count": null,
   "metadata": {},
   "outputs": [],
   "source": [
    "adata"
   ]
  },
  {
   "cell_type": "code",
   "execution_count": null,
   "metadata": {},
   "outputs": [],
   "source": [
    "metadata = adata.obs.copy()\n",
    "metadata['cell_name_18m_24m'] = [i.split('.m')[0] for i in metadata.index.values]\n",
    "metadata['cell_name_3m'] = metadata.index\n",
    "metadata.head()"
   ]
  },
  {
   "cell_type": "code",
   "execution_count": null,
   "metadata": {},
   "outputs": [],
   "source": [
    "metadata.to_csv('./write/tracer_bracer/metadata.csv')"
   ]
  },
  {
   "cell_type": "markdown",
   "metadata": {},
   "source": [
    "## Tracer"
   ]
  },
  {
   "cell_type": "markdown",
   "metadata": {},
   "source": [
    "### add 3m"
   ]
  },
  {
   "cell_type": "code",
   "execution_count": null,
   "metadata": {},
   "outputs": [],
   "source": [
    "tracer3m = pd.read_csv('./write/tracer_bracer/cell_data_tracer_3m.csv')\n",
    "tracer3m"
   ]
  },
  {
   "cell_type": "code",
   "execution_count": null,
   "metadata": {},
   "outputs": [],
   "source": [
    "tracer3m['cell_name_matching_metadata'] = tracer3m['cell_name'].str.replace('-','.')\n",
    "tracer3m['cell_name_matching_metadata'] = tracer3m['cell_name_matching_metadata'] + '-1-1'\n",
    "tracer3m"
   ]
  },
  {
   "cell_type": "code",
   "execution_count": null,
   "metadata": {},
   "outputs": [],
   "source": [
    "tracer3m[~tracer3m['cell_name_matching_metadata'].isin(metadata.index)]"
   ]
  },
  {
   "cell_type": "code",
   "execution_count": null,
   "metadata": {},
   "outputs": [],
   "source": [
    "tracer3m = tracer3m.set_index('cell_name_matching_metadata')\n",
    "tracer3m.head()"
   ]
  },
  {
   "cell_type": "code",
   "execution_count": null,
   "metadata": {},
   "outputs": [],
   "source": [
    "tracer3m = tracer3m.join(metadata, how='inner')\n",
    "tracer3m.head()"
   ]
  },
  {
   "cell_type": "code",
   "execution_count": null,
   "metadata": {
    "scrolled": true
   },
   "outputs": [],
   "source": [
    "set(tracer3m['clonal_group'].astype(str))"
   ]
  },
  {
   "cell_type": "code",
   "execution_count": null,
   "metadata": {},
   "outputs": [],
   "source": []
  },
  {
   "cell_type": "markdown",
   "metadata": {},
   "source": [
    "### add 18m"
   ]
  },
  {
   "cell_type": "code",
   "execution_count": null,
   "metadata": {},
   "outputs": [],
   "source": [
    "tracer18m = pd.read_csv('./write/tracer_bracer/cell_data_tracer_18m.csv')\n",
    "tracer18m"
   ]
  },
  {
   "cell_type": "code",
   "execution_count": null,
   "metadata": {},
   "outputs": [],
   "source": [
    "tracer18m[~tracer18m['cell_name'].isin(metadata['cell_name_18m_24m'])]"
   ]
  },
  {
   "cell_type": "code",
   "execution_count": null,
   "metadata": {},
   "outputs": [],
   "source": [
    "tracer18m = tracer18m.merge(metadata, left_on='cell_name', right_on='cell_name_18m_24m')\n",
    "tracer18m['clonal_group'] = tracer18m['clonal_group']+100.0\n",
    "tracer18m"
   ]
  },
  {
   "cell_type": "code",
   "execution_count": null,
   "metadata": {},
   "outputs": [],
   "source": [
    "tracer18m.head()"
   ]
  },
  {
   "cell_type": "code",
   "execution_count": null,
   "metadata": {},
   "outputs": [],
   "source": [
    "set(tracer18m['clonal_group'].astype(str))"
   ]
  },
  {
   "cell_type": "markdown",
   "metadata": {},
   "source": [
    "### add 24m"
   ]
  },
  {
   "cell_type": "code",
   "execution_count": null,
   "metadata": {},
   "outputs": [],
   "source": [
    "tracer24m = pd.read_csv('./write/tracer_bracer/cell_data_tracer_24m.csv')\n",
    "tracer24m"
   ]
  },
  {
   "cell_type": "code",
   "execution_count": null,
   "metadata": {},
   "outputs": [],
   "source": [
    "tracer24m[~tracer24m['cell_name'].isin(metadata['cell_name_18m_24m'])]"
   ]
  },
  {
   "cell_type": "code",
   "execution_count": null,
   "metadata": {},
   "outputs": [],
   "source": [
    "tracer24m = tracer24m.merge(metadata, left_on='cell_name', right_on='cell_name_18m_24m')\n",
    "tracer24m['clonal_group'] = tracer24m['clonal_group']+300.0\n",
    "tracer24m.head()"
   ]
  },
  {
   "cell_type": "code",
   "execution_count": null,
   "metadata": {},
   "outputs": [],
   "source": [
    "set(tracer24m['clonal_group'].astype(str))"
   ]
  },
  {
   "cell_type": "markdown",
   "metadata": {},
   "source": [
    "### analysis with metadata"
   ]
  },
  {
   "cell_type": "code",
   "execution_count": null,
   "metadata": {},
   "outputs": [],
   "source": [
    "tracer3m.shape, tracer18m.shape, tracer24m.shape"
   ]
  },
  {
   "cell_type": "code",
   "execution_count": null,
   "metadata": {},
   "outputs": [],
   "source": [
    "tracer = pd.concat([tracer3m, tracer18m, tracer24m], ignore_index=True)\n",
    "tracer"
   ]
  },
  {
   "cell_type": "code",
   "execution_count": null,
   "metadata": {},
   "outputs": [],
   "source": [
    "len(tracer),len(set(tracer['clonal_group'].astype(str)))"
   ]
  },
  {
   "cell_type": "code",
   "execution_count": null,
   "metadata": {
    "scrolled": true
   },
   "outputs": [],
   "source": [
    "tracer['cell_ontology_class_reannotated'].value_counts()"
   ]
  },
  {
   "cell_type": "code",
   "execution_count": null,
   "metadata": {},
   "outputs": [],
   "source": [
    "tracer['age'].value_counts()"
   ]
  },
  {
   "cell_type": "code",
   "execution_count": null,
   "metadata": {
    "scrolled": true
   },
   "outputs": [],
   "source": [
    "tracer.groupby(['age','clonal_group'])['cell_name'].agg({'len':len})"
   ]
  },
  {
   "cell_type": "code",
   "execution_count": null,
   "metadata": {
    "scrolled": true
   },
   "outputs": [],
   "source": [
    "tracer_summary = tracer.groupby(['clonal_group','age','mouse.id'])['cell'].agg({'cell':len})\n",
    "tracer_summary.head()"
   ]
  },
  {
   "cell_type": "code",
   "execution_count": null,
   "metadata": {
    "scrolled": true
   },
   "outputs": [],
   "source": [
    "tracer_summary = tracer.groupby(['age','clonal_group'])['clonal_group'].agg({'count':len})\n",
    "tracer_summary.head()"
   ]
  },
  {
   "cell_type": "code",
   "execution_count": null,
   "metadata": {},
   "outputs": [],
   "source": [
    "tracer_summary.index.get_level_values('clonal_group'), tracer_summary.index.get_level_values('age')"
   ]
  },
  {
   "cell_type": "code",
   "execution_count": null,
   "metadata": {},
   "outputs": [],
   "source": [
    "len(tracer_summary.index.get_level_values('age')),sum(tracer_summary.index.get_level_values('age')=='24m'),sum(tracer_summary.index.get_level_values('age')=='3m'),sum(tracer_summary.index.get_level_values('age')=='18m')\n"
   ]
  },
  {
   "cell_type": "code",
   "execution_count": null,
   "metadata": {},
   "outputs": [],
   "source": [
    "set(tracer_summary.index.get_level_values('age'))"
   ]
  },
  {
   "cell_type": "code",
   "execution_count": null,
   "metadata": {},
   "outputs": [],
   "source": [
    "tracer.columns"
   ]
  },
  {
   "cell_type": "code",
   "execution_count": null,
   "metadata": {},
   "outputs": [],
   "source": [
    "aproductive = list(set(tracer.A_productive[~tracer['A_productive'].isnull()]))\n",
    "bproductive = list(set(tracer.B_productive[~tracer['B_productive'].isnull()]))\n",
    "clonegroup = list(set(tracer.clonal_group[~tracer['clonal_group'].isnull()]))\n",
    "\n",
    "clonegroup[0:10]"
   ]
  },
  {
   "cell_type": "code",
   "execution_count": null,
   "metadata": {},
   "outputs": [],
   "source": [
    "bproductive.sort()\n",
    "len(aproductive),len(bproductive),len(tracer),len(clonegroup)"
   ]
  },
  {
   "cell_type": "code",
   "execution_count": null,
   "metadata": {},
   "outputs": [],
   "source": [
    "tracer.columns"
   ]
  },
  {
   "cell_type": "code",
   "execution_count": null,
   "metadata": {},
   "outputs": [],
   "source": [
    "tracer.groupby(['clonal_group','mouse.id'])['group_size'].agg({'len':len})"
   ]
  },
  {
   "cell_type": "code",
   "execution_count": null,
   "metadata": {},
   "outputs": [],
   "source": [
    "cg = tracer.loc[tracer['clonal_group']=='5.0_2']\n",
    "cg"
   ]
  },
  {
   "cell_type": "code",
   "execution_count": null,
   "metadata": {
    "scrolled": true
   },
   "outputs": [],
   "source": [
    "tracer = pd.concat([tracer3m, tracer18m, tracer24m], ignore_index=True)\n",
    "tracer['validated_clone'] = 999\n",
    "tracer['validated_clone_length'] = 1.0\n",
    "\n",
    "clonegroup = list(set(tracer.clonal_group[~tracer['clonal_group'].isnull()]))\n",
    "cauxi = 500\n",
    "\n",
    "for c in clonegroup:\n",
    "    cg = tracer.loc[tracer['clonal_group']==c]\n",
    "    mice = set(cg['mouse.id'])\n",
    "    if len(mice) == 1:\n",
    "        tracer.loc[cg.index,'validated_clone'] = 1\n",
    "        tracer.loc[cg.index,'validated_clone_length'] = len(cg)\n",
    "    else:\n",
    "        for m in list(set(cg['mouse.id'])):\n",
    "            \n",
    "            cgaux = cg[cg['mouse.id']==m]\n",
    "            if len(cgaux) > 1:\n",
    "                tracer.loc[cgaux.index,'validated_clone_length'] = len(cgaux)\n",
    "                tracer.loc[cgaux.index,'validated_clone'] = 1\n",
    "                tracer.loc[cgaux.index,'clonal_group'] = tracer.loc[cgaux.index,'clonal_group'] + cauxi\n",
    "                cauxi = cauxi+100\n",
    "                \n",
    "tracer.head()"
   ]
  },
  {
   "cell_type": "code",
   "execution_count": null,
   "metadata": {
    "scrolled": true
   },
   "outputs": [],
   "source": [
    "tracer.groupby(['validated_clone','clonal_group','mouse.id'])['age'].agg({'len':len})"
   ]
  },
  {
   "cell_type": "code",
   "execution_count": null,
   "metadata": {},
   "outputs": [],
   "source": [
    "tracer.groupby(['clonal_group','mouse.id'])['mouse.id'].agg({'len':len})"
   ]
  },
  {
   "cell_type": "code",
   "execution_count": null,
   "metadata": {},
   "outputs": [],
   "source": [
    "tracer.groupby(['clonal_group','mouse.id'])['mouse.id'].agg({'len':len})"
   ]
  },
  {
   "cell_type": "code",
   "execution_count": null,
   "metadata": {},
   "outputs": [],
   "source": [
    "tracer"
   ]
  },
  {
   "cell_type": "code",
   "execution_count": null,
   "metadata": {
    "scrolled": false
   },
   "outputs": [],
   "source": [
    "df = pd.DataFrame(tracer.loc[tracer['validated_clone']==1].groupby(['clonal_group']).size())"
   ]
  },
  {
   "cell_type": "code",
   "execution_count": null,
   "metadata": {},
   "outputs": [],
   "source": [
    "set(tracer['validated_clone'])"
   ]
  },
  {
   "cell_type": "code",
   "execution_count": null,
   "metadata": {},
   "outputs": [],
   "source": [
    "tracer.loc[tracer['clonal_group']==8.0]"
   ]
  },
  {
   "cell_type": "code",
   "execution_count": null,
   "metadata": {},
   "outputs": [],
   "source": [
    "set(tracer.loc[tracer['clonal_group']==8.0]['B_productive'])"
   ]
  },
  {
   "cell_type": "code",
   "execution_count": null,
   "metadata": {},
   "outputs": [],
   "source": [
    "tracer_validated = tracer[tracer['validated_clone']==1]"
   ]
  },
  {
   "cell_type": "code",
   "execution_count": null,
   "metadata": {},
   "outputs": [],
   "source": [
    "display(tracer.groupby(['age','validated_clone'])['validated_clone'].agg({'len':len}))\n",
    "\n",
    "display(tracer.groupby(['age'])['validated_clone'].agg({'len':len}))"
   ]
  },
  {
   "cell_type": "code",
   "execution_count": null,
   "metadata": {},
   "outputs": [],
   "source": [
    "metadata.groupby(['age'])['mouse.id'].agg({'len':len})"
   ]
  },
  {
   "cell_type": "code",
   "execution_count": null,
   "metadata": {},
   "outputs": [],
   "source": [
    "tracer_validated.groupby(['age','validated_clone'])['validated_clone'].sum()"
   ]
  },
  {
   "cell_type": "code",
   "execution_count": null,
   "metadata": {},
   "outputs": [],
   "source": [
    "len(tracer[tracer['age']=='3m']),len(tracer[tracer['age']=='18m']),len(tracer[tracer['age']=='24m'])\n",
    "\n"
   ]
  },
  {
   "cell_type": "code",
   "execution_count": null,
   "metadata": {},
   "outputs": [],
   "source": [
    "len(tracer_validated[tracer_validated['age']=='3m']),len(tracer_validated[tracer_validated['age']=='18m']),len(tracer_validated[tracer_validated['age']=='24m'])\n",
    "\n"
   ]
  },
  {
   "cell_type": "code",
   "execution_count": null,
   "metadata": {
    "scrolled": false
   },
   "outputs": [],
   "source": [
    "tracer_validated.groupby(['tissue','age'])['validated_clone_length'].agg({'count':len})\n"
   ]
  },
  {
   "cell_type": "code",
   "execution_count": null,
   "metadata": {
    "scrolled": true
   },
   "outputs": [],
   "source": [
    "set(tracer_validated['cell_ontology_class']), set(tracer_validated['cell_ontology_class_reannotated'])"
   ]
  },
  {
   "cell_type": "code",
   "execution_count": null,
   "metadata": {},
   "outputs": [],
   "source": [
    "df = tracer_validated.groupby(['age','clonal_group'])['validated_clone_length'].agg({'count':len})\n",
    "df = df.reset_index()\n",
    "df[df['count']>1].groupby(['age']).count()"
   ]
  },
  {
   "cell_type": "code",
   "execution_count": null,
   "metadata": {
    "scrolled": true
   },
   "outputs": [],
   "source": [
    "tracer_validated.groupby(['age','clonal_group','tissue','mouse.id','cell_ontology_class_reannotated'])['validated_clone_length'].agg({'count':len})\n",
    "\n"
   ]
  },
  {
   "cell_type": "markdown",
   "metadata": {},
   "source": [
    "### network visualization"
   ]
  },
  {
   "cell_type": "code",
   "execution_count": null,
   "metadata": {
    "scrolled": true
   },
   "outputs": [],
   "source": [
    "G = Network(height=2000,width=1000,notebook=True)\n",
    "\n",
    "edgelist = []\n",
    "vertice = []\n",
    "vidx = int(np.nanmax(tracer['clonal_group'].values.astype(float)))+1.\n",
    "for i in tracer.index:\n",
    "        \n",
    "    edge = (str(tracer.loc[i, 'age']), tracer.loc[i, 'mouse.id'])\n",
    "    if edge not in edgelist:\n",
    "        vert1 = str(tracer.loc[i, 'age'])\n",
    "        if vert1 not in vertice:\n",
    "            G.add_nodes([vert1],label = [tracer.loc[i, 'age']], color = [\"#dd4b39\"],\n",
    "                       value = [10])\n",
    "            vertice.append(str(vert1))\n",
    "        vert2 = tracer.loc[i, 'mouse.id']\n",
    "        if vert2 not in vertice:\n",
    "            G.add_nodes([vert2], color = [\"#00ff1e\"],label = [tracer.loc[i, 'mouse.id']])\n",
    "            vertice.append(vert2)\n",
    "        G.add_edge(edge[0],to=edge[1])\n",
    "        edgelist.append(edge)\n",
    "        \n",
    "    edge = (tracer.loc[i, 'mouse.id'], tracer.loc[i, 'clonal_group'])\n",
    "    if edge not in edgelist:\n",
    "        vert1 = tracer.loc[i, 'mouse.id']\n",
    "        if vert1 not in vertice:\n",
    "            G.add_nodes([vert1],label = [tracer.loc[i, 'mouse.id']], color = [\"#00ff1e\"])\n",
    "            vertice.append(str(vert1))\n",
    "        vert2 = tracer.loc[i, 'clonal_group']\n",
    "        if vert2 not in vertice:\n",
    "            if math.isnan(float(vert2)):\n",
    "                vert2 = vidx\n",
    "                val = 1.0\n",
    "                vidx = vidx+1\n",
    "            else:\n",
    "                val = tracer.loc[i, 'validated_clone_length']\n",
    "            G.add_nodes([vert2], color = [\"#FFD700\"],label = [' '],\n",
    "                       value = [val])\n",
    "            vertice.append(vert2)\n",
    "        G.add_edge(edge[0],to=vert2)\n",
    "        edgelist.append(edge)\n",
    "        \n",
    "    edge = (tracer.loc[i, 'cell'], tracer.loc[i, 'clonal_group'])\n",
    "    if edge not in edgelist:\n",
    "        vert1 = tracer.loc[i, 'cell']\n",
    "        if vert1 not in vertice:\n",
    "            G.add_nodes([vert1],label = [' '], color = [\"#162347\"])\n",
    "            vertice.append(str(vert1))\n",
    "        vert2 = tracer.loc[i, 'clonal_group']\n",
    "        if vert2 not in vertice:\n",
    "            if math.isnan(float(vert2)):\n",
    "                vert2 = vidx\n",
    "                val = 1.0\n",
    "                vidx = vidx+1\n",
    "            else:\n",
    "                val = tracer.loc[i, 'validated_clone_length']\n",
    "            G.add_nodes([vert2], color = [\"#FFD700\"],label = [tracer.loc[i, 'clonal_group']],\n",
    "                       value = [val])\n",
    "            vertice.append(vert2)\n",
    "        G.add_edge(edge[0],to=vert2)\n",
    "        edgelist.append(edge)\n",
    "\n",
    "\n",
    "G.save_graph('tracer.html')\n",
    "\n"
   ]
  },
  {
   "cell_type": "code",
   "execution_count": null,
   "metadata": {},
   "outputs": [],
   "source": [
    "tracer_validated = tracer_validated.replace('Heart','Heart_and_Aorta')"
   ]
  },
  {
   "cell_type": "code",
   "execution_count": null,
   "metadata": {
    "scrolled": false
   },
   "outputs": [],
   "source": [
    "from pyvis.network import Network\n",
    "G = Network(height=2000,width=1000,notebook=True)\n",
    "\n",
    "edgelist = []\n",
    "vertice = []\n",
    "\n",
    "tracer_validated['tissue'] = tracer_validated['tissue'].replace('Diaphragm','Diaphgram')\n",
    "for i in tracer_validated.index:\n",
    "        \n",
    "    edge = (str(tracer_validated.loc[i, 'age']), tracer_validated.loc[i, 'mouse.id'])\n",
    "    if edge not in edgelist:\n",
    "        vert1 = str(tracer_validated.loc[i, 'age'])\n",
    "        if vert1 not in vertice:\n",
    "            G.add_nodes([vert1],label = [tracer_validated.loc[i, 'age']], color = ['black'],#color = [\"#dd4b39\"],\n",
    "                       value = [10])\n",
    "            vertice.append(str(vert1))\n",
    "        vert2 = tracer_validated.loc[i, 'mouse.id']\n",
    "        if vert2 not in vertice:\n",
    "            G.add_nodes([vert2], color = [\"#555555\"],label = [tracer_validated.loc[i, 'mouse.id']])\n",
    "            vertice.append(vert2)\n",
    "        G.add_edge(edge[0],to=edge[1])\n",
    "        edgelist.append(edge)\n",
    "        \n",
    "    edge = (tracer_validated.loc[i, 'mouse.id'], tracer_validated.loc[i, 'clonal_group'])\n",
    "    if edge not in edgelist:\n",
    "        vert1 = tracer_validated.loc[i, 'mouse.id']\n",
    "        if vert1 not in vertice:\n",
    "            G.add_nodes([vert1],label = [tracer_validated.loc[i, 'mouse.id']], color = [\"#555555\"])\n",
    "            vertice.append(str(vert1))\n",
    "        vert2 = tracer_validated.loc[i, 'clonal_group']\n",
    "        if vert2 not in vertice:\n",
    "            G.add_nodes([vert2], color = [\"#737373\"],label = [' '],\n",
    "                       value = [tracer_validated.loc[i, 'validated_clone_length']])\n",
    "            vertice.append(vert2)\n",
    "        G.add_edge(edge[0],to=edge[1])\n",
    "        edgelist.append(edge)\n",
    "        \n",
    "    edge = (tracer_validated.loc[i, 'cell_name'], tracer_validated.loc[i, 'clonal_group'])\n",
    "    if edge not in edgelist:\n",
    "        vert1 = tracer_validated.loc[i, 'cell_name']\n",
    "        if vert1 not in vertice:\n",
    "            G.add_nodes([vert1],label = [' '], color = [maca_color_dict[tracer_validated.loc[i, 'tissue']]])\n",
    "            vertice.append(str(vert1))\n",
    "        vert2 = tracer_validated.loc[i, 'clonal_group']\n",
    "        if vert2 not in vertice:\n",
    "            G.add_nodes([vert2], color = [\"#737373\"],label = [tracer_validated.loc[i, 'clonal_group']],\n",
    "                       value = [tracer_validated.loc[i, 'validated_clone_length']])\n",
    "            vertice.append(vert2)\n",
    "        G.add_edge(edge[0],to=edge[1])\n",
    "        edgelist.append(edge)\n",
    "\n",
    "G.show('tracer_validated_all_ages.html')\n",
    "\n"
   ]
  },
  {
   "cell_type": "code",
   "execution_count": null,
   "metadata": {},
   "outputs": [],
   "source": []
  },
  {
   "cell_type": "code",
   "execution_count": null,
   "metadata": {},
   "outputs": [],
   "source": []
  },
  {
   "cell_type": "code",
   "execution_count": null,
   "metadata": {},
   "outputs": [],
   "source": []
  },
  {
   "cell_type": "markdown",
   "metadata": {},
   "source": [
    "## Bracer"
   ]
  },
  {
   "cell_type": "markdown",
   "metadata": {},
   "source": [
    "### Load the data"
   ]
  },
  {
   "cell_type": "code",
   "execution_count": null,
   "metadata": {},
   "outputs": [],
   "source": [
    "pwd"
   ]
  },
  {
   "cell_type": "code",
   "execution_count": null,
   "metadata": {
    "scrolled": true
   },
   "outputs": [],
   "source": [
    "bracer_counts = pd.read_csv('./20190408_B_cells_combined_counts.tsv',sep='\\t')\n",
    "# bracer_counts"
   ]
  },
  {
   "cell_type": "code",
   "execution_count": null,
   "metadata": {},
   "outputs": [],
   "source": [
    "bracer_asssemblies = pd.read_csv('./20190408_B_cells_combined_assemblies.tsv', sep = '\\t')\n",
    "bracer_asssemblies.head(10)"
   ]
  },
  {
   "cell_type": "code",
   "execution_count": null,
   "metadata": {},
   "outputs": [],
   "source": [
    "bracer_asssemblies['SAMPLENAME'] = [sn.split('/')[0] for sn in bracer_asssemblies['SAMPLENAME']]\n",
    "bracer_asssemblies"
   ]
  },
  {
   "cell_type": "code",
   "execution_count": null,
   "metadata": {},
   "outputs": [],
   "source": [
    "bracer_asssemblies.shape"
   ]
  },
  {
   "cell_type": "code",
   "execution_count": null,
   "metadata": {},
   "outputs": [],
   "source": [
    "bracer_asssemblies = pd.concat([bracer_asssemblies, bracer18m], ignore_index=True)"
   ]
  },
  {
   "cell_type": "code",
   "execution_count": null,
   "metadata": {},
   "outputs": [],
   "source": [
    "bracer_asssemblies.head()"
   ]
  },
  {
   "cell_type": "markdown",
   "metadata": {},
   "source": [
    "### Merge metadata"
   ]
  },
  {
   "cell_type": "code",
   "execution_count": null,
   "metadata": {},
   "outputs": [],
   "source": [
    "immune_cells_metadata = adata.obs\n",
    "immune_cells_metadata"
   ]
  },
  {
   "cell_type": "code",
   "execution_count": null,
   "metadata": {},
   "outputs": [],
   "source": [
    "immune_cells_metadata[immune_cells_metadata['age']=='3m']"
   ]
  },
  {
   "cell_type": "code",
   "execution_count": null,
   "metadata": {},
   "outputs": [],
   "source": [
    "immune_cells_metadata['cell'] = immune_cells_metadata.cell.apply(lambda x: x.replace(\".\", \"-\"))"
   ]
  },
  {
   "cell_type": "code",
   "execution_count": null,
   "metadata": {},
   "outputs": [],
   "source": [
    "immune_cells_metadata['cell'] = immune_cells_metadata['cell'].astype(str)\n",
    "immune_cells_metadata['cellid'] = immune_cells_metadata['cellid'].astype(str)\n",
    "immune_cells_metadata.loc[immune_cells_metadata['cell']=='nan','cell'] = immune_cells_metadata.loc[immune_cells_metadata['cell']=='nan','cellid']"
   ]
  },
  {
   "cell_type": "code",
   "execution_count": null,
   "metadata": {},
   "outputs": [],
   "source": [
    "immune_cells_metadata[immune_cells_metadata['age']=='24m']"
   ]
  },
  {
   "cell_type": "code",
   "execution_count": null,
   "metadata": {
    "scrolled": true
   },
   "outputs": [],
   "source": [
    "immune_cells_metadata['cell'] = [c.split('.')[0] for c in immune_cells_metadata['cell']]\n",
    "immune_cells_metadata['cell']"
   ]
  },
  {
   "cell_type": "code",
   "execution_count": null,
   "metadata": {
    "scrolled": true
   },
   "outputs": [],
   "source": [
    "immune_cells_metadata['cell'] = ['_'.join(c.split('-mus')[:2]) for c in immune_cells_metadata['cell']]\n",
    "immune_cells_metadata['cell']"
   ]
  },
  {
   "cell_type": "code",
   "execution_count": null,
   "metadata": {
    "scrolled": true
   },
   "outputs": [],
   "source": [
    "immune_cells_metadata['cell'] = ['_'.join(c.split('_')[:3]) for c in immune_cells_metadata['cell']]\n",
    "immune_cells_metadata['cell']"
   ]
  },
  {
   "cell_type": "code",
   "execution_count": null,
   "metadata": {},
   "outputs": [],
   "source": [
    "set(immune_cells_metadata['age'])"
   ]
  },
  {
   "cell_type": "code",
   "execution_count": null,
   "metadata": {},
   "outputs": [],
   "source": [
    "len(set(immune_cells_metadata['cell'].astype(str)))"
   ]
  },
  {
   "cell_type": "code",
   "execution_count": null,
   "metadata": {},
   "outputs": [],
   "source": [
    "immune_cells_metadata"
   ]
  },
  {
   "cell_type": "code",
   "execution_count": null,
   "metadata": {},
   "outputs": [],
   "source": [
    "immune_cells_metadata_18m = immune_cells_metadata[immune_cells_metadata['age'].isin(['18m','24m'])]\n",
    "immune_cells_metadata.loc[immune_cells_metadata_18m.index,'cell'] = immune_cells_metadata.loc[immune_cells_metadata_18m.index,'cell_name_18m']\n",
    "immune_cells_metadata"
   ]
  },
  {
   "cell_type": "code",
   "execution_count": null,
   "metadata": {},
   "outputs": [],
   "source": [
    "bracer_asssemblies[~bracer_asssemblies['SAMPLENAME'].isin(immune_cells_metadata['cell'])]"
   ]
  },
  {
   "cell_type": "code",
   "execution_count": null,
   "metadata": {},
   "outputs": [],
   "source": [
    "full_bcell_data = bracer_asssemblies.merge(immune_cells_metadata, left_on='SAMPLENAME',right_on='cell')\n",
    "full_bcell_data.shape"
   ]
  },
  {
   "cell_type": "code",
   "execution_count": null,
   "metadata": {},
   "outputs": [],
   "source": [
    "full_bcell_data.head()"
   ]
  },
  {
   "cell_type": "code",
   "execution_count": null,
   "metadata": {},
   "outputs": [],
   "source": [
    "bracer_asssemblies.shape"
   ]
  },
  {
   "cell_type": "code",
   "execution_count": null,
   "metadata": {},
   "outputs": [],
   "source": [
    "full_bcell_data.columns"
   ]
  },
  {
   "cell_type": "code",
   "execution_count": null,
   "metadata": {
    "scrolled": false
   },
   "outputs": [],
   "source": [
    "full_bcell_data.groupby(['age'])['cell'].agg({'len':len})"
   ]
  },
  {
   "cell_type": "markdown",
   "metadata": {},
   "source": [
    "### 3m data"
   ]
  },
  {
   "cell_type": "code",
   "execution_count": null,
   "metadata": {},
   "outputs": [],
   "source": [
    "bracer3m = pd.read_csv('./write/tracer_bracer/combined_assemblies_bracer_3m.tsv', sep = '\\t')\n",
    "bracer3m"
   ]
  },
  {
   "cell_type": "code",
   "execution_count": null,
   "metadata": {},
   "outputs": [],
   "source": [
    "bracer3m['SAMPLENAME'] = bracer3m['SAMPLENAME'].str.replace('-','.')\n",
    "bracer3m['SAMPLENAME'] = bracer3m['SAMPLENAME'] + '-1-1'\n",
    "bracer3m"
   ]
  },
  {
   "cell_type": "code",
   "execution_count": null,
   "metadata": {},
   "outputs": [],
   "source": [
    "bracer3m[~bracer3m['SAMPLENAME'].isin(metadata.index)]"
   ]
  },
  {
   "cell_type": "code",
   "execution_count": null,
   "metadata": {},
   "outputs": [],
   "source": [
    "bracer3m = bracer3m.merge(metadata, left_on='SAMPLENAME', right_on='cell_name_3m')\n",
    "bracer3m"
   ]
  },
  {
   "cell_type": "markdown",
   "metadata": {},
   "source": [
    "### 18m data"
   ]
  },
  {
   "cell_type": "code",
   "execution_count": null,
   "metadata": {},
   "outputs": [],
   "source": [
    "bracer18m = pd.read_csv('./write/tracer_bracer/combined_assemblies_bracer_18m.tsv', sep = '\\t')\n",
    "bracer18m.head()"
   ]
  },
  {
   "cell_type": "code",
   "execution_count": null,
   "metadata": {},
   "outputs": [],
   "source": [
    "bracer18m[~bracer18m['SAMPLENAME'].isin(metadata['cell_name_18m_24m'])]"
   ]
  },
  {
   "cell_type": "code",
   "execution_count": null,
   "metadata": {},
   "outputs": [],
   "source": [
    "bracer18m = bracer18m.merge(metadata, left_on='SAMPLENAME', right_on='cell_name_18m_24m')\n",
    "bracer18m.head()"
   ]
  },
  {
   "cell_type": "markdown",
   "metadata": {},
   "source": [
    "### 24m data"
   ]
  },
  {
   "cell_type": "code",
   "execution_count": null,
   "metadata": {},
   "outputs": [],
   "source": [
    "bracer24m = pd.read_csv('./write/tracer_bracer/combined_assemblies_24_months_b_cells.tsv', sep = '\\t')\n",
    "bracer24m.head()"
   ]
  },
  {
   "cell_type": "code",
   "execution_count": null,
   "metadata": {},
   "outputs": [],
   "source": [
    "bracer24m[~bracer24m['SAMPLENAME'].isin(metadata['cell_name_18m_24m'])]"
   ]
  },
  {
   "cell_type": "code",
   "execution_count": null,
   "metadata": {},
   "outputs": [],
   "source": [
    "bracer24m = bracer24m.merge(metadata, left_on='SAMPLENAME', right_on='cell_name_18m_24m')\n",
    "bracer24m.head()"
   ]
  },
  {
   "cell_type": "markdown",
   "metadata": {},
   "source": [
    "### Start analysis"
   ]
  },
  {
   "cell_type": "code",
   "execution_count": null,
   "metadata": {},
   "outputs": [],
   "source": [
    "bracer3m.shape, bracer18m.shape, bracer24m.shape"
   ]
  },
  {
   "cell_type": "code",
   "execution_count": null,
   "metadata": {},
   "outputs": [],
   "source": [
    "full_bcell_data = pd.concat([bracer3m,bracer18m,bracer24m], ignore_index=True) #,bracer24m\n",
    "display(full_bcell_data.shape)\n",
    "full_bcell_data.head()"
   ]
  },
  {
   "cell_type": "code",
   "execution_count": null,
   "metadata": {},
   "outputs": [],
   "source": [
    "full_bcell_data.columns"
   ]
  },
  {
   "cell_type": "code",
   "execution_count": null,
   "metadata": {},
   "outputs": [],
   "source": [
    "full_bcell_data.groupby('C_CALL').V_IDENTITY.median()"
   ]
  },
  {
   "cell_type": "code",
   "execution_count": null,
   "metadata": {},
   "outputs": [],
   "source": [
    "full_bcell_data['heavy'] = full_bcell_data.SEQUENCE_ID.str.contains('heavy')"
   ]
  },
  {
   "cell_type": "code",
   "execution_count": null,
   "metadata": {},
   "outputs": [],
   "source": [
    "full_bcell_data.groupby('heavy').heavy.value_counts().head()\n"
   ]
  },
  {
   "cell_type": "code",
   "execution_count": null,
   "metadata": {
    "scrolled": true
   },
   "outputs": [],
   "source": [
    "full_bcell_data[full_bcell_data.heavy].CDR3_IMGT.value_counts()"
   ]
  },
  {
   "cell_type": "code",
   "execution_count": null,
   "metadata": {},
   "outputs": [],
   "source": [
    "aux = full_bcell_data[full_bcell_data['Unnamed: 0']!=2]\n",
    "aux"
   ]
  },
  {
   "cell_type": "code",
   "execution_count": null,
   "metadata": {
    "scrolled": true
   },
   "outputs": [],
   "source": [
    "paired_cells = aux.groupby('SAMPLENAME').heavy.apply(lambda x: x.value_counts().tolist() == [1,1]).replace(False, np.nan).dropna().index\n",
    "\n"
   ]
  },
  {
   "cell_type": "code",
   "execution_count": null,
   "metadata": {},
   "outputs": [],
   "source": [
    "aux2 = aux[aux.SAMPLENAME.isin(paired_cells)].copy()"
   ]
  },
  {
   "cell_type": "code",
   "execution_count": null,
   "metadata": {
    "scrolled": true
   },
   "outputs": [],
   "source": [
    "pv = aux2.pivot(index='SAMPLENAME', columns='heavy', values='CDR3_IMGT')\n",
    "pv.groupby(True)[False].value_counts().sort_values(ascending=False)"
   ]
  },
  {
   "cell_type": "code",
   "execution_count": null,
   "metadata": {},
   "outputs": [],
   "source": [
    "full_bcell_data.C_CALL.value_counts()"
   ]
  },
  {
   "cell_type": "code",
   "execution_count": null,
   "metadata": {
    "scrolled": false
   },
   "outputs": [],
   "source": [
    "full_bcell_data['CDR3_LEN'] = 0\n",
    "for b in range(0,len(full_bcell_data)):\n",
    "    if str(full_bcell_data.loc[b,'CDR3_IMGT']) == full_bcell_data.loc[b,'CDR3_IMGT']:\n",
    "        full_bcell_data.loc[b,'CDR3_LEN'] = len(list(full_bcell_data.loc[b,'CDR3_IMGT']))\n",
    "        "
   ]
  },
  {
   "cell_type": "code",
   "execution_count": null,
   "metadata": {},
   "outputs": [],
   "source": [
    "full_bcell_data[\"cell\"] = full_bcell_data.SAMPLENAME.apply(lambda x: re.sub(r\"_S[0-9]+(_L[0-9]{3})?\", \"\", x))\n",
    "full_bcell_data[\"cell\"] = [full_bcell_data[\"cell\"][c].split('/')[0] for c in full_bcell_data.index]\n",
    "full_bcell_data.shape\n"
   ]
  },
  {
   "cell_type": "code",
   "execution_count": null,
   "metadata": {},
   "outputs": [],
   "source": [
    "full_bcell_data.head()"
   ]
  },
  {
   "cell_type": "markdown",
   "metadata": {},
   "source": [
    "### Look at heavy chain stats"
   ]
  },
  {
   "cell_type": "code",
   "execution_count": null,
   "metadata": {},
   "outputs": [],
   "source": [
    "bracer_asssemblies_heavy_chain = full_bcell_data[full_bcell_data['Unnamed: 0']==0]\n",
    "bracer_asssemblies_heavy_chain = bracer_asssemblies_heavy_chain[~bracer_asssemblies_heavy_chain['tissue'].isna()]\n",
    "bracer_asssemblies_heavy_chain.head()"
   ]
  },
  {
   "cell_type": "code",
   "execution_count": null,
   "metadata": {},
   "outputs": [],
   "source": [
    "set(bracer_asssemblies_heavy_chain['tissue'])"
   ]
  },
  {
   "cell_type": "code",
   "execution_count": null,
   "metadata": {},
   "outputs": [],
   "source": [
    "bracer_asssemblies_heavy_chain = bracer_asssemblies_heavy_chain.reset_index(drop=True)\n",
    "bracer_asssemblies_heavy_chain.head()"
   ]
  },
  {
   "cell_type": "code",
   "execution_count": null,
   "metadata": {},
   "outputs": [],
   "source": [
    "len(set(bracer_asssemblies_heavy_chain.cell))"
   ]
  },
  {
   "cell_type": "code",
   "execution_count": null,
   "metadata": {},
   "outputs": [],
   "source": [
    "bracer_asssemblies_heavy_chain.columns"
   ]
  },
  {
   "cell_type": "code",
   "execution_count": null,
   "metadata": {},
   "outputs": [],
   "source": [
    "bracer_asssemblies_heavy_chain['age'].value_counts()"
   ]
  },
  {
   "cell_type": "code",
   "execution_count": null,
   "metadata": {
    "scrolled": true
   },
   "outputs": [],
   "source": [
    "bracer_summary_heavy_chain = bracer_asssemblies_heavy_chain.groupby(['mouse.id','V_CALL','J_CALL','CDR3_LEN'])['cell'].agg({'cell':set,'len':len})\n",
    "bracer_summary_heavy_chain = bracer_summary_heavy_chain[bracer_summary_heavy_chain['len']>1]\n",
    "\n",
    "bracer_summary_heavy_chain = bracer_summary_heavy_chain[bracer_summary_heavy_chain.index.get_level_values('CDR3_LEN')>0]\n",
    "bracer_summary_heavy_chain\n"
   ]
  },
  {
   "cell_type": "code",
   "execution_count": null,
   "metadata": {
    "scrolled": true
   },
   "outputs": [],
   "source": [
    "bsmelt = bracer_summary_heavy_chain.melt()\n",
    "bsmeltcell = bsmelt[bsmelt['variable']=='cell']\n",
    "simscore = []\n",
    "for s in bsmeltcell['value']:\n",
    "    b = 0\n",
    "    X = bracer_asssemblies_heavy_chain[bracer_asssemblies_heavy_chain['cell'].isin(list(s))]['CDR3_IMGT']\n",
    "    X = X[~X.isna()].values\n",
    "    \n",
    "    X2 = []\n",
    "    [X2.append(x.replace('.','')) for x in X]\n",
    "    \n",
    "    Y = []\n",
    "    [Y.append(translate(x)) for x in X2]\n",
    "\n",
    "    for ix in range(0,len(Y)):\n",
    "        for jx in range(ix+1,len(Y)):\n",
    "            if ix!=jx:\n",
    "                f = fuzz.ratio(Y[ix],Y[jx])\n",
    "                if b==0:\n",
    "                    b = f\n",
    "                else:\n",
    "                    b = np.mean([b,f])\n",
    "    simscore.append(b)\n",
    "    \n",
    "bracer_summary_heavy_chain['similarity'] = np.round(simscore,2)\n",
    "bracer_summary_heavy_chain = bracer_summary_heavy_chain[bracer_summary_heavy_chain['similarity']>90]\n",
    "bracer_summary_heavy_chain['clonal_group'] = range(len(bracer_summary_heavy_chain))\n",
    "bracer_summary_heavy_chain['clonal_group'] = 'C_'+bracer_summary_heavy_chain['clonal_group'].astype(str)\n",
    "bracer_summary_heavy_chain['len'] = bracer_summary_heavy_chain['len'].astype(str)\n",
    "bracer_summary_heavy_chain\n"
   ]
  },
  {
   "cell_type": "code",
   "execution_count": null,
   "metadata": {
    "scrolled": true
   },
   "outputs": [],
   "source": [
    "bracer_summary_heavy_chain = bracer_summary_heavy_chain.reset_index(drop=True)\n",
    "bracer_summary_heavy_chain\n"
   ]
  },
  {
   "cell_type": "code",
   "execution_count": null,
   "metadata": {
    "scrolled": true
   },
   "outputs": [],
   "source": [
    "bracer_summary_heavy_chain.sort_values(['similarity','len'],ascending=False)"
   ]
  },
  {
   "cell_type": "code",
   "execution_count": null,
   "metadata": {},
   "outputs": [],
   "source": [
    "bracer_asssemblies_heavy_chain['clonal_group'] = np.nan\n",
    "bracer_asssemblies_heavy_chain['clonal_group_len'] = 1\n",
    "bracer_asssemblies_heavy_chain['clonal_group_similarity'] = np.nan\n",
    "\n",
    "for c in bracer_summary_heavy_chain['cell']:\n",
    "    cgroup = bracer_summary_heavy_chain[bracer_summary_heavy_chain['cell']==c]['clonal_group'].values[0]\n",
    "    cgroups = bracer_summary_heavy_chain[bracer_summary_heavy_chain['cell']==c]['similarity'].values[0]\n",
    "    cgroupl = bracer_summary_heavy_chain[bracer_summary_heavy_chain['cell']==c]['len'].values[0]\n",
    "    for cc in list(c):\n",
    "        idx = bracer_asssemblies_heavy_chain[bracer_asssemblies_heavy_chain['cell'] == cc].index\n",
    "        bracer_asssemblies_heavy_chain.loc[idx,'clonal_group'] = cgroup\n",
    "        bracer_asssemblies_heavy_chain.loc[idx,'clonal_group_len'] = cgroupl\n",
    "        bracer_asssemblies_heavy_chain.loc[idx,'clonal_group_similarity'] = cgroups\n",
    "        \n",
    "        \n",
    "        "
   ]
  },
  {
   "cell_type": "code",
   "execution_count": null,
   "metadata": {},
   "outputs": [],
   "source": [
    "bracer_asssemblies_heavy_chain.head()"
   ]
  },
  {
   "cell_type": "code",
   "execution_count": null,
   "metadata": {
    "scrolled": true
   },
   "outputs": [],
   "source": [
    "bracer_asssemblies_heavy_chain[~bracer_asssemblies_heavy_chain['clonal_group'].isna()].groupby(['clonal_group','mouse.id','cell','age','tissue'])['cell'].agg({'cells':set,'len':len})\n",
    "\n"
   ]
  },
  {
   "cell_type": "code",
   "execution_count": null,
   "metadata": {
    "scrolled": true
   },
   "outputs": [],
   "source": [
    "bracer_clonal_groups = bracer_asssemblies_heavy_chain[~bracer_asssemblies_heavy_chain['clonal_group'].isna()].groupby(['clonal_group'])['mouse.id'].agg({'animals':set,'len':len})\n",
    "bracer_clonal_groups"
   ]
  },
  {
   "cell_type": "code",
   "execution_count": null,
   "metadata": {
    "scrolled": true
   },
   "outputs": [],
   "source": [
    "bracer_clonal_groups['validated'] = 0\n",
    "for c in bracer_clonal_groups.index:\n",
    "    a = bracer_clonal_groups.loc[c,'animals']\n",
    "    if len(a)==1 and bracer_clonal_groups.loc[c,'len']>1:\n",
    "        bracer_clonal_groups.loc[c,'validated'] = 1\n",
    "bracer_clonal_groups\n",
    "        "
   ]
  },
  {
   "cell_type": "code",
   "execution_count": null,
   "metadata": {},
   "outputs": [],
   "source": [
    "bracer_asssemblies_heavy_chain.index"
   ]
  },
  {
   "cell_type": "code",
   "execution_count": null,
   "metadata": {},
   "outputs": [],
   "source": [
    "len(bracer_non_valid_clones)"
   ]
  },
  {
   "cell_type": "code",
   "execution_count": null,
   "metadata": {},
   "outputs": [],
   "source": [
    "bracer_asssemblies_heavy_chain[~bracer_asssemblies_heavy_chain['clonal_group'].isna()].groupby(['clonal_group','mouse.id','cell','age','tissue'])['cell'].agg({'cells':set,'len':len})\n"
   ]
  },
  {
   "cell_type": "code",
   "execution_count": null,
   "metadata": {},
   "outputs": [],
   "source": [
    "bracer_asssemblies_heavy_chain['validated'] = 0\n",
    "for c in bracer_clonal_groups.index:\n",
    "    idx = bracer_asssemblies_heavy_chain[bracer_asssemblies_heavy_chain['clonal_group'] == c].index\n",
    "    bracer_asssemblies_heavy_chain.loc[idx,'validated'] = bracer_clonal_groups.loc[c,'validated']\n",
    "bracer_asssemblies_heavy_chain.head()\n"
   ]
  },
  {
   "cell_type": "code",
   "execution_count": null,
   "metadata": {},
   "outputs": [],
   "source": [
    "for cgcg in list(set(bracer_non_valid_clones['clonal_group'])): \n",
    "    aux = bracer_non_valid_clones[bracer_non_valid_clones['clonal_group']==cgcg]\n",
    "    baux = aux.groupby(['mouse.id'])['cell'].agg({'len':len,'set':set})\n",
    "    baux = baux[baux['len']>1.]\n",
    "    bracer_asssemblies_heavy_chain.loc[aux[aux['mouse.id'].isin(baux.index)].index,'validated'] = 1\n",
    "    \n",
    "    if len(set(list(baux.index)))>1:\n",
    "        j = 1\n",
    "        for m in list(set(list(baux.index))):\n",
    "            bracer_asssemblies_heavy_chain.loc[aux[aux['mouse.id']==m].index,'clonal_group'] = bracer_asssemblies_heavy_chain.loc[aux[aux['mouse.id'].isin(baux.index)].index,'clonal_group']+'_'+str(j)\n",
    "            j+=1\n",
    "\n"
   ]
  },
  {
   "cell_type": "code",
   "execution_count": null,
   "metadata": {},
   "outputs": [],
   "source": [
    "bracer_asssemblies_heavy_chain.loc[bracer_asssemblies_heavy_chain['validated'] == 0, 'clonal_group'] = np.nan"
   ]
  },
  {
   "cell_type": "code",
   "execution_count": null,
   "metadata": {
    "scrolled": true
   },
   "outputs": [],
   "source": [
    "set(bracer_asssemblies_heavy_chain['clonal_group'])"
   ]
  },
  {
   "cell_type": "code",
   "execution_count": null,
   "metadata": {
    "scrolled": true
   },
   "outputs": [],
   "source": [
    "bracer_asssemblies_heavy_chain[~bracer_asssemblies_heavy_chain['clonal_group'].isna()].groupby(['age','clonal_group'])['mouse.id'].agg({'cells':set,'len':len})\n"
   ]
  },
  {
   "cell_type": "code",
   "execution_count": null,
   "metadata": {},
   "outputs": [],
   "source": [
    "bracer_asssemblies_heavy_chain[~bracer_asssemblies_heavy_chain['clonal_group'].isna()].groupby(['clonal_group','mouse.id'])['cell'].agg({'cells':set,'len':len})\n",
    "\n"
   ]
  },
  {
   "cell_type": "code",
   "execution_count": null,
   "metadata": {},
   "outputs": [],
   "source": [
    "bracer_asssemblies_heavy_chain"
   ]
  },
  {
   "cell_type": "code",
   "execution_count": null,
   "metadata": {},
   "outputs": [],
   "source": [
    "bracer_asssemblies_heavy_chain.columns"
   ]
  },
  {
   "cell_type": "code",
   "execution_count": null,
   "metadata": {
    "scrolled": true
   },
   "outputs": [],
   "source": [
    "bracer_asssemblies_heavy_chain['C_CALL']"
   ]
  },
  {
   "cell_type": "code",
   "execution_count": null,
   "metadata": {
    "scrolled": true
   },
   "outputs": [],
   "source": [
    "bracer_asssemblies_heavy_chain['clonal_group'] = bracer_asssemblies_heavy_chain['clonal_group'].astype(str)\n",
    "bracer_asssemblies_heavy_chain.groupby(['C_CALL','age','clonal_group'])['tissue'].agg({'tissue':set,'no_cells':len})#.to_csv('./figures/Bracer_output_all_cells_grouped_with_clones.csv')\n"
   ]
  },
  {
   "cell_type": "code",
   "execution_count": null,
   "metadata": {
    "scrolled": true
   },
   "outputs": [],
   "source": [
    "set(bracer_asssemblies_heavy_chain['clonal_group'].astype(str))"
   ]
  },
  {
   "cell_type": "markdown",
   "metadata": {},
   "source": [
    "### Network visualization"
   ]
  },
  {
   "cell_type": "code",
   "execution_count": null,
   "metadata": {
    "scrolled": true
   },
   "outputs": [],
   "source": [
    "bracer_summary_heavy_chain"
   ]
  },
  {
   "cell_type": "code",
   "execution_count": null,
   "metadata": {},
   "outputs": [],
   "source": [
    "bracer_asssemblies_heavy_chain.head()"
   ]
  },
  {
   "cell_type": "code",
   "execution_count": null,
   "metadata": {},
   "outputs": [],
   "source": [
    "df = bracer_asssemblies_heavy_chain.groupby(['age','validated'])['cell'].agg({'len':len})\n",
    "df = df.unstack('validated')\n",
    "df.columns = df.columns.droplevel()\n",
    "df = df.rename(columns={0:'singleton',1:'clone'})\n",
    "df['total'] = df['clone'] + df['singleton']\n",
    "df['proportion_clone'] = np.round(df['clone']/df['total']*100)\n",
    "df['proportion_singleton2'] = np.round(df['singleton']/df['total']*100)\n",
    "df"
   ]
  },
  {
   "cell_type": "code",
   "execution_count": null,
   "metadata": {
    "scrolled": true
   },
   "outputs": [],
   "source": [
    "bracer_validated = bracer_asssemblies_heavy_chain[~bracer_asssemblies_heavy_chain['clonal_group'].isna()]\n",
    "bracer_validated = bracer_validated[bracer_validated['clonal_group']!='nan']\n",
    "bracer_validated.head(10)"
   ]
  },
  {
   "cell_type": "code",
   "execution_count": null,
   "metadata": {},
   "outputs": [],
   "source": [
    "set(bracer_validated['clonal_group'])"
   ]
  },
  {
   "cell_type": "code",
   "execution_count": null,
   "metadata": {},
   "outputs": [],
   "source": [
    "bracer_asssemblies_heavy_chain['age'].value_counts()"
   ]
  },
  {
   "cell_type": "code",
   "execution_count": null,
   "metadata": {},
   "outputs": [],
   "source": [
    "bracer_validated['age'].value_counts()"
   ]
  },
  {
   "cell_type": "code",
   "execution_count": null,
   "metadata": {
    "scrolled": false
   },
   "outputs": [],
   "source": [
    "bracer_validated.groupby(['tissue','age','mouse.id'])['clonal_group'].agg({'len':len,'set':set})"
   ]
  },
  {
   "cell_type": "code",
   "execution_count": null,
   "metadata": {
    "scrolled": true
   },
   "outputs": [],
   "source": [
    "bracer_validated.groupby(['age','mouse.id'])['tissue'].agg({'len':len,'set':set})"
   ]
  },
  {
   "cell_type": "code",
   "execution_count": null,
   "metadata": {
    "scrolled": false
   },
   "outputs": [],
   "source": [
    "bracer_validated['tissue'] = bracer_validated['tissue'].replace('Diaphragm','Diaphgram')\n",
    "\n",
    "G = Network(height=2000,width=1000,notebook=True)\n",
    "\n",
    "edgelist = []\n",
    "vertice = []\n",
    "for i in bracer_validated.index:\n",
    "        \n",
    "    edge = (str(bracer_validated.loc[i, 'age']), bracer_validated.loc[i, 'mouse.id'])\n",
    "    if edge not in edgelist:\n",
    "        vert1 = bracer_validated.loc[i, 'age']\n",
    "        if vert1 not in vertice:\n",
    "            G.add_nodes([vert1],label = [bracer_validated.loc[i, 'age']], color = ['black'],\n",
    "                       value = [10])\n",
    "            vertice.append(str(vert1))\n",
    "        vert2 = bracer_validated.loc[i, 'mouse.id']\n",
    "        if vert2 not in vertice:\n",
    "            G.add_nodes([vert2], color = [\"#555555\"],label = [bracer_validated.loc[i, 'mouse.id']])\n",
    "            vertice.append(vert2)\n",
    "        G.add_edge(edge[0],to=edge[1])\n",
    "        edgelist.append(edge)\n",
    "        \n",
    "    edge = (bracer_validated.loc[i, 'mouse.id'], bracer_validated.loc[i, 'clonal_group'])\n",
    "    if edge not in edgelist:\n",
    "        vert1 = bracer_validated.loc[i, 'mouse.id']\n",
    "        if vert1 not in vertice:\n",
    "            G.add_nodes([vert1],label = [bracer_validated.loc[i, 'mouse.id']], color = [\"#555555\"])\n",
    "            vertice.append(str(vert1))\n",
    "        vert2 = bracer_validated.loc[i, 'clonal_group']\n",
    "        if vert2 not in vertice:\n",
    "            G.add_nodes([vert2], color = [\"#737373\"],label = [' '],\n",
    "                       value = [bracer_validated.loc[i, 'clonal_group_len']])\n",
    "            vertice.append(vert2)\n",
    "        G.add_edge(edge[0],to=edge[1])\n",
    "        edgelist.append(edge)\n",
    "        \n",
    "\n",
    "    edge = (bracer_validated.loc[i, 'cell'], bracer_validated.loc[i, 'clonal_group'])\n",
    "    if edge not in edgelist:\n",
    "        vert1 = bracer_validated.loc[i, 'cell']\n",
    "        if vert1 not in vertice:\n",
    "            G.add_nodes([vert1],label = [' '], color = [maca_color_dict[bracer_validated.loc[i, 'tissue']]])\n",
    "            vertice.append(str(vert1))\n",
    "        vert2 = bracer_validated.loc[i, 'clonal_group']\n",
    "        if vert2 not in vertice:\n",
    "            G.add_nodes([vert2], color = [\"#737373\"],label = [bracer_validated.loc[i, 'clonal_group']],\n",
    "                       value = [bracer_validated.loc[i, 'len']])\n",
    "            vertice.append(vert2)\n",
    "        G.add_edge(edge[0],to=edge[1])\n",
    "        edgelist.append(edge)\n",
    "\n",
    "\n",
    "G.show('bracer_validated_animal_threshold_first_all_ages.html')\n",
    "\n"
   ]
  },
  {
   "cell_type": "code",
   "execution_count": null,
   "metadata": {},
   "outputs": [],
   "source": []
  }
 ],
 "metadata": {
  "kernelspec": {
   "display_name": "Python 3",
   "language": "python",
   "name": "python3"
  },
  "language_info": {
   "codemirror_mode": {
    "name": "ipython",
    "version": 3
   },
   "file_extension": ".py",
   "mimetype": "text/x-python",
   "name": "python",
   "nbconvert_exporter": "python",
   "pygments_lexer": "ipython3",
   "version": "3.7.4"
  }
 },
 "nbformat": 4,
 "nbformat_minor": 2
}
